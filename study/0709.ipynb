{
 "cells": [
  {
   "cell_type": "markdown",
   "metadata": {},
   "source": [
    "#### 119 page\n",
    "##### 행렬 곱을 이용한 완전연결계층"
   ]
  },
  {
   "cell_type": "code",
   "execution_count": 1,
   "metadata": {},
   "outputs": [],
   "source": [
    "import numpy as np"
   ]
  },
  {
   "cell_type": "code",
   "execution_count": 2,
   "metadata": {},
   "outputs": [
    {
     "name": "stdout",
     "output_type": "stream",
     "text": [
      "C: [[1 0 0 0 0 0 0]] \n",
      "W: [[ 0.18264654 -1.05135741 -0.39377207]\n",
      " [-0.92736889  0.97367092 -0.20932478]\n",
      " [ 0.71029268 -0.50361087  0.63734613]\n",
      " [-0.67676701  1.7531369  -1.10134845]\n",
      " [ 0.04009473  0.27089679  0.15703484]\n",
      " [ 0.46009923 -0.21227869 -0.0343855 ]\n",
      " [ 0.66175461 -0.06761432 -0.74228062]] \n",
      "\n",
      "h: [[ 0.18264654 -1.05135741 -0.39377207]]\n"
     ]
    }
   ],
   "source": [
    "C = np.array([[1,0,0,0,0,0,0]])\n",
    "#가중치 초기화\n",
    "W = np.random.randn(7, 3)\n",
    "#행렬곱 연산\n",
    "h = np.matmul(C,W)\n",
    "print('C:',C,'\\nW:',W,'\\n\\nh:',h)"
   ]
  },
  {
   "cell_type": "markdown",
   "metadata": {},
   "source": [
    "### 120page\n",
    "##### common.layer class를 사용한 순전파 계산"
   ]
  },
  {
   "cell_type": "code",
   "execution_count": 3,
   "metadata": {},
   "outputs": [],
   "source": [
    "import sys\n",
    "sys.path.append('../dl')\n",
    "import numpy as np\n",
    "from common.layers import MatMul"
   ]
  },
  {
   "cell_type": "code",
   "execution_count": 4,
   "metadata": {},
   "outputs": [
    {
     "name": "stdout",
     "output_type": "stream",
     "text": [
      "C: [[1 0 0 0 0 0 0]] \n",
      "W: [[-1.96321851 -0.25239169  1.52833676]\n",
      " [ 0.13858876 -0.27338979  0.99090393]\n",
      " [-0.14927631 -1.10129777  1.12561873]\n",
      " [ 0.29777354 -0.07957315  0.44349524]\n",
      " [-0.16496458 -0.93746816 -1.19346447]\n",
      " [-0.10543411  0.16892056 -0.58397511]\n",
      " [ 0.84758936 -0.05943771  0.9931396 ]] \n",
      "\n",
      "h: [[-1.96321851 -0.25239169  1.52833676]]\n"
     ]
    }
   ],
   "source": [
    "C = np.array([[1,0,0,0,0,0,0]])\n",
    "#가중치 초기화\n",
    "W = np.random.randn(7, 3)\n",
    "#common class 행렬곱 연산\n",
    "layer = MatMul(W)\n",
    "#순전파 계산\n",
    "h = layer.forward(C)\n",
    "print('C:',C,'\\nW:',W,'\\n\\nh:',h)"
   ]
  },
  {
   "cell_type": "markdown",
   "metadata": {},
   "source": [
    "### 125page\n",
    "##### CBOW model 추론처리"
   ]
  },
  {
   "cell_type": "code",
   "execution_count": 63,
   "metadata": {},
   "outputs": [],
   "source": [
    "import sys\n",
    "sys.path.append('../dl')\n",
    "import numpy as np\n",
    "from common.layers import MatMul"
   ]
  },
  {
   "cell_type": "code",
   "execution_count": 64,
   "metadata": {},
   "outputs": [],
   "source": [
    "# 샘플 맥락 데이터\n",
    "c0 = np.array([[1, 0, 0, 0, 0, 0, 0]])\n",
    "c1 = np.array([[0, 0, 1, 0, 0, 0, 0]])"
   ]
  },
  {
   "cell_type": "code",
   "execution_count": 81,
   "metadata": {},
   "outputs": [],
   "source": [
    "# 가중치 초기화\n",
    "W_in = np.random.randn(7, 3)\n",
    "W_out = np.random.randn(3, 7)"
   ]
  },
  {
   "cell_type": "code",
   "execution_count": 82,
   "metadata": {},
   "outputs": [],
   "source": [
    "# 계층 생성\n",
    "in_layer0 = MatMul(W_in)\n",
    "in_layer1 = MatMul(W_in)\n",
    "out_layer = MatMul(W_out)"
   ]
  },
  {
   "cell_type": "code",
   "execution_count": 83,
   "metadata": {},
   "outputs": [
    {
     "name": "stdout",
     "output_type": "stream",
     "text": [
      "[[-0.97254338  2.05466516 -1.25186844  1.45734247 -2.6652415   1.18829216\n",
      "  -0.207129  ]]\n"
     ]
    }
   ],
   "source": [
    "# 순전파\n",
    "h0 = in_layer0.forward(c0)\n",
    "h1 = in_layer1.forward(c1)\n",
    "h = 0.5 * (h0 + h1)\n",
    "s = out_layer.forward(h)\n",
    "print(s)"
   ]
  },
  {
   "cell_type": "markdown",
   "metadata": {},
   "source": [
    "##### simple cbow"
   ]
  },
  {
   "cell_type": "code",
   "execution_count": 10,
   "metadata": {},
   "outputs": [],
   "source": [
    "import sys\n",
    "sys.path.append('../dl')\n",
    "import numpy as np\n",
    "from common.layers import MatMul, SoftmaxWithLoss\n",
    "\n",
    "\n",
    "class SimpleCBOW:\n",
    "    def __init__(self, vocab_size, hidden_size):\n",
    "        V, H = vocab_size, hidden_size\n",
    "\n",
    "        # 가중치 초기화\n",
    "        W_in = 0.01 * np.random.randn(V, H).astype('f')\n",
    "        W_out = 0.01 * np.random.randn(H, V).astype('f')\n",
    "\n",
    "        # 계층 생성\n",
    "        self.in_layer0 = MatMul(W_in)\n",
    "        self.in_layer1 = MatMul(W_in)\n",
    "        self.out_layer = MatMul(W_out)\n",
    "        self.loss_layer = SoftmaxWithLoss()\n",
    "\n",
    "        # 모든 가중치와 기울기를 리스트에 모은다.\n",
    "        layers = [self.in_layer0, self.in_layer1, self.out_layer]\n",
    "        self.params, self.grads = [], []\n",
    "        for layer in layers:\n",
    "            self.params += layer.params\n",
    "            self.grads += layer.grads\n",
    "\n",
    "        # 인스턴스 변수에 단어의 분산 표현을 저장한다.\n",
    "        self.word_vecs = W_in\n",
    "\n",
    "    def forward(self, contexts, target):\n",
    "        h0 = self.in_layer0.forward(contexts[:, 0])\n",
    "        h1 = self.in_layer1.forward(contexts[:, 1])\n",
    "        h = (h0 + h1) * 0.5\n",
    "        score = self.out_layer.forward(h)\n",
    "        loss = self.loss_layer.forward(score, target)\n",
    "        return loss\n",
    "\n",
    "    def backward(self, dout=1):\n",
    "        ds = self.loss_layer.backward(dout)\n",
    "        da = self.out_layer.backward(ds)\n",
    "        da *= 0.5\n",
    "        self.in_layer1.backward(da)\n",
    "        self.in_layer0.backward(da)\n",
    "        return None"
   ]
  },
  {
   "cell_type": "markdown",
   "metadata": {},
   "source": [
    "##### simple skip-gram"
   ]
  },
  {
   "cell_type": "code",
   "execution_count": 11,
   "metadata": {},
   "outputs": [],
   "source": [
    "import sys\n",
    "sys.path.append('../dl')\n",
    "import numpy as np\n",
    "from common.layers import MatMul, SoftmaxWithLoss\n",
    "\n",
    "\n",
    "class SimpleSkipGram:\n",
    "    def __init__(self, vocab_size, hidden_size):\n",
    "        V, H = vocab_size, hidden_size\n",
    "\n",
    "        # 가중치 초기화\n",
    "        W_in = 0.01 * np.random.randn(V, H).astype('f')\n",
    "        W_out = 0.01 * np.random.randn(H, V).astype('f')\n",
    "\n",
    "        # 계층 생성\n",
    "        self.in_layer = MatMul(W_in)\n",
    "        self.out_layer = MatMul(W_out)\n",
    "        self.loss_layer1 = SoftmaxWithLoss()\n",
    "        self.loss_layer2 = SoftmaxWithLoss()\n",
    "\n",
    "        # 모든 가중치와 기울기를 리스트에 모은다.\n",
    "        layers = [self.in_layer, self.out_layer]\n",
    "        self.params, self.grads = [], []\n",
    "        for layer in layers:\n",
    "            self.params += layer.params\n",
    "            self.grads += layer.grads\n",
    "\n",
    "        # 인스턴스 변수에 단어의 분산 표현을 저장한다.\n",
    "        self.word_vecs = W_in\n",
    "\n",
    "    def forward(self, contexts, target):\n",
    "        h = self.in_layer.forward(target)\n",
    "        s = self.out_layer.forward(h)\n",
    "        l1 = self.loss_layer1.forward(s, contexts[:, 0])\n",
    "        l2 = self.loss_layer2.forward(s, contexts[:, 1])\n",
    "        loss = l1 + l2\n",
    "        return loss\n",
    "\n",
    "    def backward(self, dout=1):\n",
    "        dl1 = self.loss_layer1.backward(dout)\n",
    "        dl2 = self.loss_layer2.backward(dout)\n",
    "        ds = dl1 + dl2\n",
    "        dh = self.out_layer.backward(ds)\n",
    "        self.in_layer.backward(dh)\n",
    "        return None"
   ]
  },
  {
   "cell_type": "markdown",
   "metadata": {},
   "source": [
    "### Adam\n",
    "##### Momentum과 AdaGrad를 섞은 기법"
   ]
  },
  {
   "cell_type": "markdown",
   "metadata": {},
   "source": [
    "### Momentum\n",
    "##### 기울기 업데이트 시 이 폭을 조절하는 역할"
   ]
  },
  {
   "cell_type": "markdown",
   "metadata": {},
   "source": [
    "### AdaGrad\n",
    "##### AdaGrad는 과거의 기울기 값을 제곱해서 계속 더하는 식으로 학습률을 낮춤"
   ]
  },
  {
   "cell_type": "markdown",
   "metadata": {},
   "source": [
    "##### train"
   ]
  },
  {
   "cell_type": "code",
   "execution_count": 17,
   "metadata": {},
   "outputs": [],
   "source": [
    "import sys\n",
    "sys.path.append('../dl')  # 부모 디렉터리의 파일을 가져올 수 있도록 설정\n",
    "from common.trainer import Trainer\n",
    "from common.optimizer import Adam\n",
    "from common.util import preprocess, create_contexts_target, convert_one_hot"
   ]
  },
  {
   "cell_type": "code",
   "execution_count": 38,
   "metadata": {},
   "outputs": [],
   "source": [
    "window_size = 1\n",
    "hidden_size = 5\n",
    "batch_size = 3\n",
    "max_epoch = 1000"
   ]
  },
  {
   "cell_type": "code",
   "execution_count": 39,
   "metadata": {},
   "outputs": [],
   "source": [
    "text = 'You say goodbye and I say hello.'"
   ]
  },
  {
   "cell_type": "code",
   "execution_count": 40,
   "metadata": {},
   "outputs": [
    {
     "name": "stdout",
     "output_type": "stream",
     "text": [
      "[0 1 2 3 4 1 5 6] \n",
      " {'you': 0, 'say': 1, 'goodbye': 2, 'and': 3, 'i': 4, 'hello': 5, '.': 6} \n",
      " {0: 'you', 1: 'say', 2: 'goodbye', 3: 'and', 4: 'i', 5: 'hello', 6: '.'}\n",
      "vocab_size: 7\n"
     ]
    },
    {
     "data": {
      "image/png": "[encoded data removed]",
      "text/plain": [
       "<Figure size 432x288 with 1 Axes>"
      ]
     },
     "metadata": {
      "needs_background": "light"
     },
     "output_type": "display_data"
    },
    {
     "name": "stdout",
     "output_type": "stream",
     "text": [
      "[-0.7996374   1.5717617  -1.4888781   0.94705695  0.97465724] you\n",
      "[ 0.58401525  1.1891865   0.01203579 -1.3961147  -1.0038561 ] say\n",
      "[-1.2221451  -0.27699426  0.24227361  1.1734192   1.1652111 ] goodbye\n",
      "[-1.441379   0.5943675 -1.3342217 -1.2884992 -1.4599283] and\n",
      "[-1.2415922  -0.28742874  0.26433733  1.1625668   1.1720328 ] i\n",
      "[-0.77767414  1.568718   -1.5101442   0.930618    0.97841144] hello\n",
      "[ 1.2512751  1.3053057  1.2927929 -1.0771664  1.540165 ] .\n"
     ]
    }
   ],
   "source": [
    "corpus, word_to_id, id_to_word = preprocess(text)#전처리\n",
    "print(corpus,'\\n', word_to_id,'\\n', id_to_word)\n",
    "vocab_size = len(word_to_id)\n",
    "print('vocab_size:',vocab_size)\n",
    "contexts, target = create_contexts_target(corpus, window_size)\n",
    "target = convert_one_hot(target, vocab_size)\n",
    "contexts = convert_one_hot(contexts, vocab_size)\n",
    "\n",
    "model = SimpleCBOW(vocab_size, hidden_size)\n",
    "optimizer = Adam()\n",
    "trainer = Trainer(model, optimizer)\n",
    "\n",
    "trainer.fit(contexts, target, max_epoch, batch_size)\n",
    "trainer.plot()\n",
    "\n",
    "word_vecs = model.word_vecs\n",
    "for word_id, word in id_to_word.items():\n",
    "    print(word_vecs[word_id], word)"
   ]
  },
  {
   "cell_type": "code",
   "execution_count": 28,
   "metadata": {},
   "outputs": [
    {
     "data": {
      "image/png": "[encoded data removed]",
      "text/plain": [
       "<Figure size 432x288 with 1 Axes>"
      ]
     },
     "metadata": {
      "needs_background": "light"
     },
     "output_type": "display_data"
    },
    {
     "name": "stdout",
     "output_type": "stream",
     "text": [
      "[-3.7966487   1.0434667   3.0228298  -1.971697   -0.01017138] the\n",
      "[ 0.8622235 -2.800167  -2.1025069  1.7063898  2.257352 ] current\n",
      "[ 2.238048  -1.9068149 -2.7173896  0.8659642  0.672199 ] fire\n",
      "[ 2.1582706  -1.971458   -0.12073665 -2.1960628   2.152778  ] house\n",
      "[ 0.667476   -2.1428142   2.26068     0.17093575  1.7478915 ] installed\n",
      "[-2.1732242 -1.0885901  1.6203994  2.7022083  0.9283468] within\n",
      "[ 1.590914   2.5572994  1.1718373 -2.5098228  1.8143449] building\n",
      "[ 2.398553   1.6881539 -1.9046956 -2.040986   2.3083336] used\n",
      "[-1.3847817  1.6071306 -2.7738526 -2.2613606  2.1037226] by\n",
      "[-2.6077225   2.0397253  -1.8853897  -0.16976056 -1.3310488 ] south\n",
      "[ 0.12461229  1.9311157  -2.3101697   2.1903508  -2.2176497 ] korea’s\n",
      "[ 2.558694    1.2938092   0.61365515  1.6465932  -2.2491114 ] agency\n",
      "[ 0.22067493 -1.2766262   2.1318927   2.0179245  -0.53865474] for\n",
      "[-2.048841   -2.3831196   1.7910855   2.543692   -0.11457229] managing\n",
      "[0.9903517 2.5102491 2.6336288 2.5668972 2.279883 ] industrial\n",
      "[2.8801696  2.0289938  0.26648247 1.786384   1.8440088 ] zone\n",
      "[ 0.7408147  2.4668844 -2.8197677  1.9488634  2.2235603] will\n",
      "[-1.6284258  -0.71619546 -0.77344424  2.3265502   2.3415265 ] move\n",
      "[-2.0908246 -0.9451664  2.0048568  1.505341   1.7424951] to\n",
      "[-0.6360408 -1.4122059 -0.1777998 -2.5101194 -2.3926628] newly\n",
      "[-1.7313861 -2.2410028 -2.5687456 -1.309169  -1.7031516] built\n",
      "[-1.8701565  -2.4742544  -0.6973809   1.9776593   0.43772623] three-story\n",
      "[-0.7098849 -2.533291   1.3834034 -0.5795374  2.6368666] building,\n",
      "[-0.00644765 -0.00070569  0.01828911 -0.01139345  0.00038173] official\n",
      "[ 0.00144193 -0.01075605 -0.01463833 -0.0034456   0.00521093] said\n",
      "[ 0.00163215  0.00467554 -0.01302692  0.01135815 -0.01374349] .\n"
     ]
    }
   ],
   "source": [
    "import sys\n",
    "sys.path.append('../dl')  # 부모 디렉터리의 파일을 가져올 수 있도록 설정\n",
    "from common.trainer import Trainer\n",
    "from common.optimizer import Adam\n",
    "from common.util import preprocess, create_contexts_target, convert_one_hot\n",
    "\n",
    "\n",
    "window_size = 2\n",
    "hidden_size = 5\n",
    "batch_size = 4\n",
    "max_epoch = 1000\n",
    "\n",
    "text = 'The current fire house installed within the building used by South Korea’s agency for managing the industrial zone will move to the newly built three-story building, the official said.'\n",
    "corpus, word_to_id, id_to_word = preprocess(text)\n",
    "\n",
    "vocab_size = len(word_to_id)\n",
    "contexts, target = create_contexts_target(corpus, window_size)\n",
    "target = convert_one_hot(target, vocab_size)\n",
    "contexts = convert_one_hot(contexts, vocab_size)\n",
    "\n",
    "model = SimpleCBOW(vocab_size, hidden_size)\n",
    "optimizer = Adam()\n",
    "trainer = Trainer(model, optimizer)\n",
    "\n",
    "trainer.fit(contexts, target, max_epoch, batch_size)\n",
    "trainer.plot()\n",
    "\n",
    "word_vecs = model.word_vecs\n",
    "for word_id, word in id_to_word.items():\n",
    "    print(word_vecs[word_id], word)"
   ]
  },
  {
   "cell_type": "code",
   "execution_count": 29,
   "metadata": {},
   "outputs": [
    {
     "data": {
      "image/png": "[encoded data removed]",
      "text/plain": [
       "<Figure size 432x288 with 1 Axes>"
      ]
     },
     "metadata": {
      "needs_background": "light"
     },
     "output_type": "display_data"
    },
    {
     "name": "stdout",
     "output_type": "stream",
     "text": [
      "[-0.01645252  0.00830682 -0.01201118  0.00140909 -0.01159075] the\n",
      "[ 0.0096782  -0.00468284  0.00320764  0.00162567  0.00196797] value\n",
      "[-0.00523038 -0.00746442  0.00613458 -0.00584368  0.01458154] that\n",
      "[-2.133299    1.8788133  -0.65536857  1.8863581   1.1423672 ] a\n",
      "[-1.1686312  2.0139115 -2.4811084  2.0032482 -0.5719749] customer\n",
      "[-1.9357505  1.7362171 -1.987801   0.2998198 -2.490057 ] perceives\n",
      "[-2.436348   2.3358808 -0.508197  -0.0809911 -0.4388481] in\n",
      "[-2.4722824  2.058764   2.4126732  2.0444849  1.1139568] product\n",
      "[-0.5135801   2.0689943   1.3230791  -1.9841018   0.15130839] or\n",
      "[-1.2504535  1.3263129 -2.103003  -2.1355557 -1.6621777] service\n",
      "[-0.0365157  1.4474422 -2.3146698 -2.0967207 -0.2525845] he\n",
      "[-2.7394009   1.0818582  -0.01134214 -2.1580808   2.2864451 ] she\n",
      "[-1.0180515  1.2862837 -1.6612111 -2.0409331  2.2575064] may\n",
      "[ 2.1357954  -0.56740123 -2.087418   -1.9241935   2.039947  ] decide\n",
      "[ 1.0809432 -0.904717  -2.42734   -1.8332362  0.8902532] to\n",
      "[ 1.7461483 -2.0715961 -1.5051606 -1.6370202 -1.8759546] buy\n",
      "[ 0.05057338 -1.7889286   0.9021801  -1.4355685  -2.5134103 ] can\n",
      "[-2.2274942  -1.5247633   0.26160786 -0.86540437 -2.3030322 ] range\n",
      "[-2.351853   -2.20067    -0.24464671  1.1321906  -2.123618  ] from\n",
      "[-2.0148616 -1.5048839  1.698988   2.4841187 -1.4188759] intangibles\n",
      "[-1.5012752  0.6730575  2.4618757  1.1778963 -2.471371 ] such\n",
      "[ 0.58784    2.6139097  1.3823619  2.337841  -2.5829625] as\n",
      "[ 1.9981638   0.4579219   0.59685045  2.145663   -2.1899717 ] glamour,\n",
      "[ 1.822744  -1.7727596  1.8666183  0.9424757 -1.2087188] ego\n",
      "[2.3077118  0.43740135 2.5616877  1.2837017  0.7396107 ] satisfaction,\n",
      "[0.78393215 2.1807635  2.5675855  1.1713427  1.4071513 ] luxury,\n",
      "[ 1.7995877   1.8975855   0.63259363 -1.7109691  -2.331956  ] brand\n",
      "[ 2.235191   1.9347961 -1.6455793 -1.430539  -0.6039233] image\n",
      "[-1.6127427 -1.9885712 -1.8421587 -1.9823725  1.0000628] tangible\n",
      "[-2.2063024  -1.3967918   0.823749   -2.4921675  -0.71830577] attributes\n",
      "[ 1.8890951  0.5308825  1.0945758  2.3795905 -1.8421752] performance,\n",
      "[ 1.8002505 -1.7669457  1.8547646  0.9297474 -1.2080406] durability,\n",
      "[ 1.6846211 -2.2017415  2.1487427 -2.0906289 -0.5778839] running\n",
      "[-0.8651417 -2.2375827  2.160658  -1.6160809  1.3049909] cost,\n",
      "[-1.5901887 -1.6860766  1.0475339  1.4762532  1.9843475] comfort,\n",
      "[-1.869813  -1.9161735 -1.8872355  1.7737066  1.3158065] resale\n",
      "[-1.102006  -1.5008234 -2.3133416  2.2351103 -1.3506004] value,\n",
      "[ 1.7119882 -1.717301  -2.088142   1.934842  -2.1010718] payment\n",
      "[ 1.9881737 -1.2583542 -2.004133   2.2425652  0.7970913] terms,\n",
      "[ 1.8845166  1.812337  -2.0951405  2.1926758  0.8123173] availability\n",
      "[ 1.4442586   1.4284545  -1.378676    0.19554912  2.7281158 ] of\n",
      "[ 2.120898   -1.0334721   0.0483272   0.77702385  2.4108744 ] spare\n",
      "[ 1.6535294  -0.68079764  2.0070062  -1.5351039   2.6121998 ] parts,\n",
      "[-0.276139    2.457882    0.6663687  -0.09875846  2.735058  ] convenience\n",
      "[ 2.4479983   1.8632606   0.44827855 -1.6511273   1.1054772 ] sales\n",
      "[ 2.4078436  1.3239462  2.0802863 -1.9532304  1.542621 ] and\n",
      "[-0.01960205  0.01834865 -0.02414407  0.02156791 -0.00685788] outlets\n",
      "[ 0.00397655 -0.00546067 -0.00727754  0.00502575  0.01845249] .\n"
     ]
    }
   ],
   "source": [
    "import sys\n",
    "sys.path.append('../dl')  # 부모 디렉터리의 파일을 가져올 수 있도록 설정\n",
    "from common.trainer import Trainer\n",
    "from common.optimizer import Adam\n",
    "from common.util import preprocess, create_contexts_target, convert_one_hot\n",
    "\n",
    "\n",
    "window_size = 3\n",
    "hidden_size = 5\n",
    "batch_size = 6\n",
    "max_epoch = 1000\n",
    "\n",
    "text = 'The value that a customer perceives in a product or service he or she may decide to buy can range from intangibles such as glamour, ego satisfaction, luxury, or brand image to tangible attributes such as performance, durability, running cost, comfort, resale value, payment terms, availability of spare parts, or convenience of sales and service outlets.'\n",
    "corpus, word_to_id, id_to_word = preprocess(text)\n",
    "\n",
    "vocab_size = len(word_to_id)\n",
    "contexts, target = create_contexts_target(corpus, window_size)\n",
    "target = convert_one_hot(target, vocab_size)\n",
    "contexts = convert_one_hot(contexts, vocab_size)\n",
    "\n",
    "model = SimpleSkipGram(vocab_size, hidden_size)\n",
    "optimizer = Adam()\n",
    "trainer = Trainer(model, optimizer)\n",
    "\n",
    "trainer.fit(contexts, target, max_epoch, batch_size)\n",
    "trainer.plot()\n",
    "\n",
    "word_vecs = model.word_vecs\n",
    "for word_id, word in id_to_word.items():\n",
    "    print(word_vecs[word_id], word)"
   ]
  }
 ],
 "metadata": {
  "kernelspec": {
   "display_name": "Python 3",
   "language": "python",
   "name": "python3"
  },
  "language_info": {
   "codemirror_mode": {
    "name": "ipython",
    "version": 3
   },
   "file_extension": ".py",
   "mimetype": "text/x-python",
   "name": "python",
   "nbconvert_exporter": "python",
   "pygments_lexer": "ipython3",
   "version": "3.6.7"
  }
 },
 "nbformat": 4,
 "nbformat_minor": 2
}
